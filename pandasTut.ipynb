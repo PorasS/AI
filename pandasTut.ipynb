{
  "nbformat": 4,
  "nbformat_minor": 0,
  "metadata": {
    "colab": {
      "name": "pandasTut.ipynb",
      "provenance": [],
      "collapsed_sections": [],
      "authorship_tag": "ABX9TyMx4RiMndXO661Ae2WXTSxj",
      "include_colab_link": true
    },
    "kernelspec": {
      "name": "python3",
      "display_name": "Python 3"
    }
  },
  "cells": [
    {
      "cell_type": "markdown",
      "metadata": {
        "id": "view-in-github",
        "colab_type": "text"
      },
      "source": [
        "<a href=\"https://colab.research.google.com/github/PorasS/AI/blob/master/pandasTut.ipynb\" target=\"_parent\"><img src=\"https://colab.research.google.com/assets/colab-badge.svg\" alt=\"Open In Colab\"/></a>"
      ]
    },
    {
      "cell_type": "markdown",
      "metadata": {
        "id": "nSKW5fIvhhHf"
      },
      "source": [
        "**Pandas library provides the necessary data structures, required to handle tabular data.**"
      ]
    },
    {
      "cell_type": "code",
      "metadata": {
        "id": "edRAEg63jfhg",
        "outputId": "8a390fb4-3980-4375-a335-8e9c9d71b291",
        "colab": {
          "base_uri": "https://localhost:8080/",
          "height": 204
        }
      },
      "source": [
        "#simple data frame\n",
        "import pandas as pd;\n",
        "\n",
        "df = pd.read_csv(\"/content/sample_data/auto-mpg.csv\");\n",
        "display(df[0:5])\n"
      ],
      "execution_count": null,
      "outputs": [
        {
          "output_type": "display_data",
          "data": {
            "text/html": [
              "<div>\n",
              "<style scoped>\n",
              "    .dataframe tbody tr th:only-of-type {\n",
              "        vertical-align: middle;\n",
              "    }\n",
              "\n",
              "    .dataframe tbody tr th {\n",
              "        vertical-align: top;\n",
              "    }\n",
              "\n",
              "    .dataframe thead th {\n",
              "        text-align: right;\n",
              "    }\n",
              "</style>\n",
              "<table border=\"1\" class=\"dataframe\">\n",
              "  <thead>\n",
              "    <tr style=\"text-align: right;\">\n",
              "      <th></th>\n",
              "      <th>mpg</th>\n",
              "      <th>cylinders</th>\n",
              "      <th>displacement</th>\n",
              "      <th>horsepower</th>\n",
              "      <th>weight</th>\n",
              "      <th>acceleration</th>\n",
              "      <th>model year</th>\n",
              "      <th>origin</th>\n",
              "      <th>car name</th>\n",
              "    </tr>\n",
              "  </thead>\n",
              "  <tbody>\n",
              "    <tr>\n",
              "      <th>0</th>\n",
              "      <td>18.0</td>\n",
              "      <td>8</td>\n",
              "      <td>307.0</td>\n",
              "      <td>130</td>\n",
              "      <td>3504</td>\n",
              "      <td>12.0</td>\n",
              "      <td>70</td>\n",
              "      <td>1</td>\n",
              "      <td>chevrolet chevelle malibu</td>\n",
              "    </tr>\n",
              "    <tr>\n",
              "      <th>1</th>\n",
              "      <td>15.0</td>\n",
              "      <td>8</td>\n",
              "      <td>350.0</td>\n",
              "      <td>165</td>\n",
              "      <td>3693</td>\n",
              "      <td>11.5</td>\n",
              "      <td>70</td>\n",
              "      <td>1</td>\n",
              "      <td>buick skylark 320</td>\n",
              "    </tr>\n",
              "    <tr>\n",
              "      <th>2</th>\n",
              "      <td>18.0</td>\n",
              "      <td>8</td>\n",
              "      <td>318.0</td>\n",
              "      <td>150</td>\n",
              "      <td>3436</td>\n",
              "      <td>11.0</td>\n",
              "      <td>70</td>\n",
              "      <td>1</td>\n",
              "      <td>plymouth satellite</td>\n",
              "    </tr>\n",
              "    <tr>\n",
              "      <th>3</th>\n",
              "      <td>16.0</td>\n",
              "      <td>8</td>\n",
              "      <td>304.0</td>\n",
              "      <td>150</td>\n",
              "      <td>3433</td>\n",
              "      <td>12.0</td>\n",
              "      <td>70</td>\n",
              "      <td>1</td>\n",
              "      <td>amc rebel sst</td>\n",
              "    </tr>\n",
              "    <tr>\n",
              "      <th>4</th>\n",
              "      <td>17.0</td>\n",
              "      <td>8</td>\n",
              "      <td>302.0</td>\n",
              "      <td>140</td>\n",
              "      <td>3449</td>\n",
              "      <td>10.5</td>\n",
              "      <td>70</td>\n",
              "      <td>1</td>\n",
              "      <td>ford torino</td>\n",
              "    </tr>\n",
              "  </tbody>\n",
              "</table>\n",
              "</div>"
            ],
            "text/plain": [
              "    mpg  cylinders  displacement  ... model year  origin                   car name\n",
              "0  18.0          8         307.0  ...         70       1  chevrolet chevelle malibu\n",
              "1  15.0          8         350.0  ...         70       1          buick skylark 320\n",
              "2  18.0          8         318.0  ...         70       1         plymouth satellite\n",
              "3  16.0          8         304.0  ...         70       1              amc rebel sst\n",
              "4  17.0          8         302.0  ...         70       1                ford torino\n",
              "\n",
              "[5 rows x 9 columns]"
            ]
          },
          "metadata": {
            "tags": []
          }
        }
      ]
    },
    {
      "cell_type": "code",
      "metadata": {
        "id": "CLPc61Qolwm4",
        "outputId": "742cef57-6153-444e-8ed8-d1eebaee64c3",
        "colab": {
          "base_uri": "https://localhost:8080/",
          "height": 204
        }
      },
      "source": [
        "#Strip non-numerics\n",
        "df = df.select_dtypes(include=['int','float']);\n",
        "\n",
        "display(df[0:5])"
      ],
      "execution_count": null,
      "outputs": [
        {
          "output_type": "display_data",
          "data": {
            "text/html": [
              "<div>\n",
              "<style scoped>\n",
              "    .dataframe tbody tr th:only-of-type {\n",
              "        vertical-align: middle;\n",
              "    }\n",
              "\n",
              "    .dataframe tbody tr th {\n",
              "        vertical-align: top;\n",
              "    }\n",
              "\n",
              "    .dataframe thead th {\n",
              "        text-align: right;\n",
              "    }\n",
              "</style>\n",
              "<table border=\"1\" class=\"dataframe\">\n",
              "  <thead>\n",
              "    <tr style=\"text-align: right;\">\n",
              "      <th></th>\n",
              "      <th>mpg</th>\n",
              "      <th>cylinders</th>\n",
              "      <th>displacement</th>\n",
              "      <th>weight</th>\n",
              "      <th>acceleration</th>\n",
              "      <th>model year</th>\n",
              "      <th>origin</th>\n",
              "    </tr>\n",
              "  </thead>\n",
              "  <tbody>\n",
              "    <tr>\n",
              "      <th>0</th>\n",
              "      <td>18.0</td>\n",
              "      <td>8</td>\n",
              "      <td>307.0</td>\n",
              "      <td>3504</td>\n",
              "      <td>12.0</td>\n",
              "      <td>70</td>\n",
              "      <td>1</td>\n",
              "    </tr>\n",
              "    <tr>\n",
              "      <th>1</th>\n",
              "      <td>15.0</td>\n",
              "      <td>8</td>\n",
              "      <td>350.0</td>\n",
              "      <td>3693</td>\n",
              "      <td>11.5</td>\n",
              "      <td>70</td>\n",
              "      <td>1</td>\n",
              "    </tr>\n",
              "    <tr>\n",
              "      <th>2</th>\n",
              "      <td>18.0</td>\n",
              "      <td>8</td>\n",
              "      <td>318.0</td>\n",
              "      <td>3436</td>\n",
              "      <td>11.0</td>\n",
              "      <td>70</td>\n",
              "      <td>1</td>\n",
              "    </tr>\n",
              "    <tr>\n",
              "      <th>3</th>\n",
              "      <td>16.0</td>\n",
              "      <td>8</td>\n",
              "      <td>304.0</td>\n",
              "      <td>3433</td>\n",
              "      <td>12.0</td>\n",
              "      <td>70</td>\n",
              "      <td>1</td>\n",
              "    </tr>\n",
              "    <tr>\n",
              "      <th>4</th>\n",
              "      <td>17.0</td>\n",
              "      <td>8</td>\n",
              "      <td>302.0</td>\n",
              "      <td>3449</td>\n",
              "      <td>10.5</td>\n",
              "      <td>70</td>\n",
              "      <td>1</td>\n",
              "    </tr>\n",
              "  </tbody>\n",
              "</table>\n",
              "</div>"
            ],
            "text/plain": [
              "    mpg  cylinders  displacement  weight  acceleration  model year  origin\n",
              "0  18.0          8         307.0    3504          12.0          70       1\n",
              "1  15.0          8         350.0    3693          11.5          70       1\n",
              "2  18.0          8         318.0    3436          11.0          70       1\n",
              "3  16.0          8         304.0    3433          12.0          70       1\n",
              "4  17.0          8         302.0    3449          10.5          70       1"
            ]
          },
          "metadata": {
            "tags": []
          }
        }
      ]
    },
    {
      "cell_type": "code",
      "metadata": {
        "id": "waCm1i-xmaqy",
        "outputId": "8d577f80-1a04-499f-eada-b46cf9bea91c",
        "colab": {
          "base_uri": "https://localhost:8080/",
          "height": 34
        }
      },
      "source": [
        "headers = list(df.columns.values);\n",
        "print(headers);"
      ],
      "execution_count": null,
      "outputs": [
        {
          "output_type": "stream",
          "text": [
            "['mpg', 'cylinders', 'displacement', 'weight', 'acceleration', 'model year', 'origin']\n"
          ],
          "name": "stdout"
        }
      ]
    },
    {
      "cell_type": "code",
      "metadata": {
        "id": "vhDFWC5qmqfw",
        "outputId": "627899d3-0ba6-45b9-ea8c-e22b8f47998e",
        "colab": {
          "base_uri": "https://localhost:8080/",
          "height": 136
        }
      },
      "source": [
        "#Generate mean, var and  std\n",
        "fields=[];\n",
        "\n",
        "for field in headers:\n",
        "  fields.append({'name': field,\n",
        "                'mean':df[field].mean(),\n",
        "                'var':df[field].var(),\n",
        "                'sdev':df[field].std()});\n",
        "\n",
        "for field in fields:\n",
        "  print(field);"
      ],
      "execution_count": null,
      "outputs": [
        {
          "output_type": "stream",
          "text": [
            "{'name': 'mpg', 'mean': 23.514572864321615, 'var': 61.089610774274405, 'sdev': 7.815984312565782}\n",
            "{'name': 'cylinders', 'mean': 5.454773869346734, 'var': 2.8934154399199943, 'sdev': 1.7010042445332094}\n",
            "{'name': 'displacement', 'mean': 193.42587939698493, 'var': 10872.199152247364, 'sdev': 104.26983817119581}\n",
            "{'name': 'weight', 'mean': 2970.424623115578, 'var': 717140.9905256768, 'sdev': 846.8417741973271}\n",
            "{'name': 'acceleration', 'mean': 15.568090452261291, 'var': 7.604848233611381, 'sdev': 2.7576889298126757}\n",
            "{'name': 'model year', 'mean': 76.01005025125629, 'var': 13.672442818627143, 'sdev': 3.697626646732623}\n",
            "{'name': 'origin', 'mean': 1.5728643216080402, 'var': 0.6432920268850575, 'sdev': 0.8020548777266163}\n"
          ],
          "name": "stdout"
        }
      ]
    },
    {
      "cell_type": "markdown",
      "metadata": {
        "id": "ZQknK9GvxoOm"
      },
      "source": [
        "Converting fields to dataFrame"
      ]
    },
    {
      "cell_type": "code",
      "metadata": {
        "id": "OW-z76fFxthF",
        "outputId": "3c899d43-0495-43c3-ea32-da61890a1807",
        "colab": {
          "base_uri": "https://localhost:8080/",
          "height": 266
        }
      },
      "source": [
        "df2 = pd.DataFrame(fields);\n",
        "display(df2);"
      ],
      "execution_count": null,
      "outputs": [
        {
          "output_type": "display_data",
          "data": {
            "text/html": [
              "<div>\n",
              "<style scoped>\n",
              "    .dataframe tbody tr th:only-of-type {\n",
              "        vertical-align: middle;\n",
              "    }\n",
              "\n",
              "    .dataframe tbody tr th {\n",
              "        vertical-align: top;\n",
              "    }\n",
              "\n",
              "    .dataframe thead th {\n",
              "        text-align: right;\n",
              "    }\n",
              "</style>\n",
              "<table border=\"1\" class=\"dataframe\">\n",
              "  <thead>\n",
              "    <tr style=\"text-align: right;\">\n",
              "      <th></th>\n",
              "      <th>name</th>\n",
              "      <th>mean</th>\n",
              "      <th>var</th>\n",
              "      <th>sdev</th>\n",
              "    </tr>\n",
              "  </thead>\n",
              "  <tbody>\n",
              "    <tr>\n",
              "      <th>0</th>\n",
              "      <td>mpg</td>\n",
              "      <td>23.514573</td>\n",
              "      <td>61.089611</td>\n",
              "      <td>7.815984</td>\n",
              "    </tr>\n",
              "    <tr>\n",
              "      <th>1</th>\n",
              "      <td>cylinders</td>\n",
              "      <td>5.454774</td>\n",
              "      <td>2.893415</td>\n",
              "      <td>1.701004</td>\n",
              "    </tr>\n",
              "    <tr>\n",
              "      <th>2</th>\n",
              "      <td>displacement</td>\n",
              "      <td>193.425879</td>\n",
              "      <td>10872.199152</td>\n",
              "      <td>104.269838</td>\n",
              "    </tr>\n",
              "    <tr>\n",
              "      <th>3</th>\n",
              "      <td>weight</td>\n",
              "      <td>2970.424623</td>\n",
              "      <td>717140.990526</td>\n",
              "      <td>846.841774</td>\n",
              "    </tr>\n",
              "    <tr>\n",
              "      <th>4</th>\n",
              "      <td>acceleration</td>\n",
              "      <td>15.568090</td>\n",
              "      <td>7.604848</td>\n",
              "      <td>2.757689</td>\n",
              "    </tr>\n",
              "    <tr>\n",
              "      <th>5</th>\n",
              "      <td>model year</td>\n",
              "      <td>76.010050</td>\n",
              "      <td>13.672443</td>\n",
              "      <td>3.697627</td>\n",
              "    </tr>\n",
              "    <tr>\n",
              "      <th>6</th>\n",
              "      <td>origin</td>\n",
              "      <td>1.572864</td>\n",
              "      <td>0.643292</td>\n",
              "      <td>0.802055</td>\n",
              "    </tr>\n",
              "  </tbody>\n",
              "</table>\n",
              "</div>"
            ],
            "text/plain": [
              "           name         mean            var        sdev\n",
              "0           mpg    23.514573      61.089611    7.815984\n",
              "1     cylinders     5.454774       2.893415    1.701004\n",
              "2  displacement   193.425879   10872.199152  104.269838\n",
              "3        weight  2970.424623  717140.990526  846.841774\n",
              "4  acceleration    15.568090       7.604848    2.757689\n",
              "5    model year    76.010050      13.672443    3.697627\n",
              "6        origin     1.572864       0.643292    0.802055"
            ]
          },
          "metadata": {
            "tags": []
          }
        }
      ]
    },
    {
      "cell_type": "markdown",
      "metadata": {
        "id": "m4h0ggsOyZXF"
      },
      "source": [
        "**Dealing with Missing Values:**\n",
        "To deal with missing values, common practice is to replace missing values with the median value for that column.\n",
        "Median is better to use in place of null values, as median is not sensitive to outliers, as mean is sensitive to outliers"
      ]
    },
    {
      "cell_type": "code",
      "metadata": {
        "id": "UWYbUSn-yzMx",
        "outputId": "b41ecac9-b35c-4598-ee2e-aa8032e3cb06",
        "colab": {
          "base_uri": "https://localhost:8080/",
          "height": 34
        }
      },
      "source": [
        "#check if there is any null value in horsepower column\n",
        "import os;\n",
        "import pandas as pd;\n",
        "\n",
        "df = pd.read_csv(\"/content/sample_data/auto-mpg.csv\", na_values=['NA','?']);\n",
        "\n",
        "print(f\"horsepower has na? {pd.isnull(df['horsepower']).values.any()}\")"
      ],
      "execution_count": null,
      "outputs": [
        {
          "output_type": "stream",
          "text": [
            "horsepower has na? True\n"
          ],
          "name": "stdout"
        }
      ]
    },
    {
      "cell_type": "code",
      "metadata": {
        "id": "NFjX_4LE1KFo",
        "outputId": "1a28dd35-42c4-4082-f32f-30621faeed85",
        "colab": {
          "base_uri": "https://localhost:8080/",
          "height": 34
        }
      },
      "source": [
        "#filling missing values\n",
        "#calculating the median for the horsepower column\n",
        "median = df['horsepower'].median();\n",
        "df['horsepower']=df['horsepower'].fillna(median);\n",
        "\n",
        "#df = df.dropna() # we can also simply drop na values\n",
        "print(f\"horsepower has na? {pd.isnull(df['horsepower']).values.any()}\");"
      ],
      "execution_count": null,
      "outputs": [
        {
          "output_type": "stream",
          "text": [
            "horsepower has na? False\n"
          ],
          "name": "stdout"
        }
      ]
    },
    {
      "cell_type": "markdown",
      "metadata": {
        "id": "xrVPmUjG2xAt"
      },
      "source": [
        "**Dealing with Outliers**: outliers are usually defined as a values that is several standard deviation away from the mean."
      ]
    },
    {
      "cell_type": "code",
      "metadata": {
        "id": "qX0ZXT5c6w7N"
      },
      "source": [
        "#Remove all rows where the specified, column is +/- standard deviation\n",
        "\n",
        "def remove_outlier(df, name, sd):\n",
        "  drop_rows = df.index[(np.abs(df[name]-df[name].mean())>= (sd * df[name].std()))]\n",
        "  print(f\"drop_rows: {drop_rows}\")\n",
        "  df.drop(drop_rows, axis=0, inplace=True)"
      ],
      "execution_count": null,
      "outputs": []
    },
    {
      "cell_type": "markdown",
      "metadata": {
        "id": "PxmzgXxn9Hcm"
      },
      "source": [
        "The code below will drop every row from the dataset, where the horsepower is more than 2 standard deviation above or below the mean."
      ]
    },
    {
      "cell_type": "code",
      "metadata": {
        "id": "DUiU4KGS9GvZ",
        "outputId": "2d0144fa-b226-4376-ea87-11cd9041bf30",
        "colab": {
          "base_uri": "https://localhost:8080/",
          "height": 255
        }
      },
      "source": [
        "import pandas as pd;\n",
        "import os;\n",
        "import numpy as np;\n",
        "from sklearn import metrics;\n",
        "from scipy.stats import zscore;\n",
        "\n",
        "df = pd.read_csv(\"/content/sample_data/auto-mpg.csv\",na_values=['NA','?']);\n",
        "\n",
        "# display(df[0:5])\n",
        "\n",
        "# create feature vector\n",
        "med  = df['horsepower'].median();\n",
        "df['horsepower'] = df['horsepower'].fillna(med);\n",
        "\n",
        "# drop the name column\n",
        "# df.drop('name',1,inplace=True);\n",
        "\n",
        "# Drop outliers in horsepower\n",
        "print(\"Length before MPG outlier dropped: {}\".format(len(df)));\n",
        "remove_outlier(df,'mpg',2)\n",
        "print(\"Length after MPG outlier dropped: {}\".format(len(df)));\n",
        "\n",
        "display(df[0:5]);\n"
      ],
      "execution_count": null,
      "outputs": [
        {
          "output_type": "stream",
          "text": [
            "Length before MPG outlier dropped: 398\n",
            "drop_rows: Int64Index([244, 247, 309, 322, 324, 325, 326, 329, 330, 394], dtype='int64')\n",
            "Length after MPG outlier dropped: 388\n"
          ],
          "name": "stdout"
        },
        {
          "output_type": "display_data",
          "data": {
            "text/html": [
              "<div>\n",
              "<style scoped>\n",
              "    .dataframe tbody tr th:only-of-type {\n",
              "        vertical-align: middle;\n",
              "    }\n",
              "\n",
              "    .dataframe tbody tr th {\n",
              "        vertical-align: top;\n",
              "    }\n",
              "\n",
              "    .dataframe thead th {\n",
              "        text-align: right;\n",
              "    }\n",
              "</style>\n",
              "<table border=\"1\" class=\"dataframe\">\n",
              "  <thead>\n",
              "    <tr style=\"text-align: right;\">\n",
              "      <th></th>\n",
              "      <th>mpg</th>\n",
              "      <th>cylinders</th>\n",
              "      <th>displacement</th>\n",
              "      <th>horsepower</th>\n",
              "      <th>weight</th>\n",
              "      <th>acceleration</th>\n",
              "      <th>model year</th>\n",
              "      <th>origin</th>\n",
              "      <th>car name</th>\n",
              "    </tr>\n",
              "  </thead>\n",
              "  <tbody>\n",
              "    <tr>\n",
              "      <th>0</th>\n",
              "      <td>18.0</td>\n",
              "      <td>8</td>\n",
              "      <td>307.0</td>\n",
              "      <td>130.0</td>\n",
              "      <td>3504</td>\n",
              "      <td>12.0</td>\n",
              "      <td>70</td>\n",
              "      <td>1</td>\n",
              "      <td>chevrolet chevelle malibu</td>\n",
              "    </tr>\n",
              "    <tr>\n",
              "      <th>1</th>\n",
              "      <td>15.0</td>\n",
              "      <td>8</td>\n",
              "      <td>350.0</td>\n",
              "      <td>165.0</td>\n",
              "      <td>3693</td>\n",
              "      <td>11.5</td>\n",
              "      <td>70</td>\n",
              "      <td>1</td>\n",
              "      <td>buick skylark 320</td>\n",
              "    </tr>\n",
              "    <tr>\n",
              "      <th>2</th>\n",
              "      <td>18.0</td>\n",
              "      <td>8</td>\n",
              "      <td>318.0</td>\n",
              "      <td>150.0</td>\n",
              "      <td>3436</td>\n",
              "      <td>11.0</td>\n",
              "      <td>70</td>\n",
              "      <td>1</td>\n",
              "      <td>plymouth satellite</td>\n",
              "    </tr>\n",
              "    <tr>\n",
              "      <th>3</th>\n",
              "      <td>16.0</td>\n",
              "      <td>8</td>\n",
              "      <td>304.0</td>\n",
              "      <td>150.0</td>\n",
              "      <td>3433</td>\n",
              "      <td>12.0</td>\n",
              "      <td>70</td>\n",
              "      <td>1</td>\n",
              "      <td>amc rebel sst</td>\n",
              "    </tr>\n",
              "    <tr>\n",
              "      <th>4</th>\n",
              "      <td>17.0</td>\n",
              "      <td>8</td>\n",
              "      <td>302.0</td>\n",
              "      <td>140.0</td>\n",
              "      <td>3449</td>\n",
              "      <td>10.5</td>\n",
              "      <td>70</td>\n",
              "      <td>1</td>\n",
              "      <td>ford torino</td>\n",
              "    </tr>\n",
              "  </tbody>\n",
              "</table>\n",
              "</div>"
            ],
            "text/plain": [
              "    mpg  cylinders  displacement  ...  model year  origin                   car name\n",
              "0  18.0          8         307.0  ...          70       1  chevrolet chevelle malibu\n",
              "1  15.0          8         350.0  ...          70       1          buick skylark 320\n",
              "2  18.0          8         318.0  ...          70       1         plymouth satellite\n",
              "3  16.0          8         304.0  ...          70       1              amc rebel sst\n",
              "4  17.0          8         302.0  ...          70       1                ford torino\n",
              "\n",
              "[5 rows x 9 columns]"
            ]
          },
          "metadata": {
            "tags": []
          }
        }
      ]
    },
    {
      "cell_type": "markdown",
      "metadata": {
        "id": "Ko21-BoB2i5z"
      },
      "source": [
        "**Dropping Fields**: Its pretty easy to drop fields in pandas."
      ]
    },
    {
      "cell_type": "code",
      "metadata": {
        "id": "4kHL6-mS2xVE",
        "outputId": "21366e48-b360-43ce-a9e4-ed448ea09d5e",
        "colab": {
          "base_uri": "https://localhost:8080/",
          "height": 204
        }
      },
      "source": [
        "import os\n",
        "import pandas as pd\n",
        "df = pd.read_csv(\"/content/sample_data/auto-mpg.csv\",na_values=['NA','?'])\n",
        "display(df[0:5])\n"
      ],
      "execution_count": null,
      "outputs": [
        {
          "output_type": "display_data",
          "data": {
            "text/html": [
              "<div>\n",
              "<style scoped>\n",
              "    .dataframe tbody tr th:only-of-type {\n",
              "        vertical-align: middle;\n",
              "    }\n",
              "\n",
              "    .dataframe tbody tr th {\n",
              "        vertical-align: top;\n",
              "    }\n",
              "\n",
              "    .dataframe thead th {\n",
              "        text-align: right;\n",
              "    }\n",
              "</style>\n",
              "<table border=\"1\" class=\"dataframe\">\n",
              "  <thead>\n",
              "    <tr style=\"text-align: right;\">\n",
              "      <th></th>\n",
              "      <th>mpg</th>\n",
              "      <th>cylinders</th>\n",
              "      <th>displacement</th>\n",
              "      <th>horsepower</th>\n",
              "      <th>weight</th>\n",
              "      <th>acceleration</th>\n",
              "      <th>model year</th>\n",
              "      <th>origin</th>\n",
              "      <th>car name</th>\n",
              "    </tr>\n",
              "  </thead>\n",
              "  <tbody>\n",
              "    <tr>\n",
              "      <th>0</th>\n",
              "      <td>18.0</td>\n",
              "      <td>8</td>\n",
              "      <td>307.0</td>\n",
              "      <td>130.0</td>\n",
              "      <td>3504</td>\n",
              "      <td>12.0</td>\n",
              "      <td>70</td>\n",
              "      <td>1</td>\n",
              "      <td>chevrolet chevelle malibu</td>\n",
              "    </tr>\n",
              "    <tr>\n",
              "      <th>1</th>\n",
              "      <td>15.0</td>\n",
              "      <td>8</td>\n",
              "      <td>350.0</td>\n",
              "      <td>165.0</td>\n",
              "      <td>3693</td>\n",
              "      <td>11.5</td>\n",
              "      <td>70</td>\n",
              "      <td>1</td>\n",
              "      <td>buick skylark 320</td>\n",
              "    </tr>\n",
              "    <tr>\n",
              "      <th>2</th>\n",
              "      <td>18.0</td>\n",
              "      <td>8</td>\n",
              "      <td>318.0</td>\n",
              "      <td>150.0</td>\n",
              "      <td>3436</td>\n",
              "      <td>11.0</td>\n",
              "      <td>70</td>\n",
              "      <td>1</td>\n",
              "      <td>plymouth satellite</td>\n",
              "    </tr>\n",
              "    <tr>\n",
              "      <th>3</th>\n",
              "      <td>16.0</td>\n",
              "      <td>8</td>\n",
              "      <td>304.0</td>\n",
              "      <td>150.0</td>\n",
              "      <td>3433</td>\n",
              "      <td>12.0</td>\n",
              "      <td>70</td>\n",
              "      <td>1</td>\n",
              "      <td>amc rebel sst</td>\n",
              "    </tr>\n",
              "    <tr>\n",
              "      <th>4</th>\n",
              "      <td>17.0</td>\n",
              "      <td>8</td>\n",
              "      <td>302.0</td>\n",
              "      <td>140.0</td>\n",
              "      <td>3449</td>\n",
              "      <td>10.5</td>\n",
              "      <td>70</td>\n",
              "      <td>1</td>\n",
              "      <td>ford torino</td>\n",
              "    </tr>\n",
              "  </tbody>\n",
              "</table>\n",
              "</div>"
            ],
            "text/plain": [
              "    mpg  cylinders  displacement  ...  model year  origin                   car name\n",
              "0  18.0          8         307.0  ...          70       1  chevrolet chevelle malibu\n",
              "1  15.0          8         350.0  ...          70       1          buick skylark 320\n",
              "2  18.0          8         318.0  ...          70       1         plymouth satellite\n",
              "3  16.0          8         304.0  ...          70       1              amc rebel sst\n",
              "4  17.0          8         302.0  ...          70       1                ford torino\n",
              "\n",
              "[5 rows x 9 columns]"
            ]
          },
          "metadata": {
            "tags": []
          }
        }
      ]
    },
    {
      "cell_type": "code",
      "metadata": {
        "id": "9yltU9K33X75"
      },
      "source": [
        "print(f'Before column drop: {list(df.columns)}')\n",
        "df.drop('car name',1, inplace=True)\n",
        "print(f'After Column drop: {list(df.columns)}')"
      ],
      "execution_count": null,
      "outputs": []
    },
    {
      "cell_type": "code",
      "metadata": {
        "id": "dnOoA55w39_3",
        "outputId": "1b2922fe-76e5-47fb-b4f9-ca4aeadffd3c",
        "colab": {
          "base_uri": "https://localhost:8080/",
          "height": 204
        }
      },
      "source": [
        "display(df[0:5])"
      ],
      "execution_count": null,
      "outputs": [
        {
          "output_type": "display_data",
          "data": {
            "text/html": [
              "<div>\n",
              "<style scoped>\n",
              "    .dataframe tbody tr th:only-of-type {\n",
              "        vertical-align: middle;\n",
              "    }\n",
              "\n",
              "    .dataframe tbody tr th {\n",
              "        vertical-align: top;\n",
              "    }\n",
              "\n",
              "    .dataframe thead th {\n",
              "        text-align: right;\n",
              "    }\n",
              "</style>\n",
              "<table border=\"1\" class=\"dataframe\">\n",
              "  <thead>\n",
              "    <tr style=\"text-align: right;\">\n",
              "      <th></th>\n",
              "      <th>mpg</th>\n",
              "      <th>cylinders</th>\n",
              "      <th>displacement</th>\n",
              "      <th>horsepower</th>\n",
              "      <th>weight</th>\n",
              "      <th>acceleration</th>\n",
              "      <th>model year</th>\n",
              "      <th>origin</th>\n",
              "    </tr>\n",
              "  </thead>\n",
              "  <tbody>\n",
              "    <tr>\n",
              "      <th>0</th>\n",
              "      <td>18.0</td>\n",
              "      <td>8</td>\n",
              "      <td>307.0</td>\n",
              "      <td>130.0</td>\n",
              "      <td>3504</td>\n",
              "      <td>12.0</td>\n",
              "      <td>70</td>\n",
              "      <td>1</td>\n",
              "    </tr>\n",
              "    <tr>\n",
              "      <th>1</th>\n",
              "      <td>15.0</td>\n",
              "      <td>8</td>\n",
              "      <td>350.0</td>\n",
              "      <td>165.0</td>\n",
              "      <td>3693</td>\n",
              "      <td>11.5</td>\n",
              "      <td>70</td>\n",
              "      <td>1</td>\n",
              "    </tr>\n",
              "    <tr>\n",
              "      <th>2</th>\n",
              "      <td>18.0</td>\n",
              "      <td>8</td>\n",
              "      <td>318.0</td>\n",
              "      <td>150.0</td>\n",
              "      <td>3436</td>\n",
              "      <td>11.0</td>\n",
              "      <td>70</td>\n",
              "      <td>1</td>\n",
              "    </tr>\n",
              "    <tr>\n",
              "      <th>3</th>\n",
              "      <td>16.0</td>\n",
              "      <td>8</td>\n",
              "      <td>304.0</td>\n",
              "      <td>150.0</td>\n",
              "      <td>3433</td>\n",
              "      <td>12.0</td>\n",
              "      <td>70</td>\n",
              "      <td>1</td>\n",
              "    </tr>\n",
              "    <tr>\n",
              "      <th>4</th>\n",
              "      <td>17.0</td>\n",
              "      <td>8</td>\n",
              "      <td>302.0</td>\n",
              "      <td>140.0</td>\n",
              "      <td>3449</td>\n",
              "      <td>10.5</td>\n",
              "      <td>70</td>\n",
              "      <td>1</td>\n",
              "    </tr>\n",
              "  </tbody>\n",
              "</table>\n",
              "</div>"
            ],
            "text/plain": [
              "    mpg  cylinders  displacement  ...  acceleration  model year  origin\n",
              "0  18.0          8         307.0  ...          12.0          70       1\n",
              "1  15.0          8         350.0  ...          11.5          70       1\n",
              "2  18.0          8         318.0  ...          11.0          70       1\n",
              "3  16.0          8         304.0  ...          12.0          70       1\n",
              "4  17.0          8         302.0  ...          10.5          70       1\n",
              "\n",
              "[5 rows x 8 columns]"
            ]
          },
          "metadata": {
            "tags": []
          }
        }
      ]
    },
    {
      "cell_type": "markdown",
      "metadata": {
        "id": "hXCB5mq04Cpw"
      },
      "source": [
        "**Concatenating Rows and Columns:**\n",
        "Rows and columns can be concatenate together to form a new  dataframe"
      ]
    },
    {
      "cell_type": "code",
      "metadata": {
        "id": "xuQYwTPp5cNe",
        "outputId": "a0d2a925-1768-4797-9783-6463a9fcfd7b",
        "colab": {
          "base_uri": "https://localhost:8080/",
          "height": 204
        }
      },
      "source": [
        "import os\n",
        "import pandas as pd\n",
        "\n",
        "df = pd.read_csv(\"/content/sample_data/auto-mpg.csv\",na_values=['NA','?'])\n",
        "col_horsepower = df['horsepower']\n",
        "col_carName = df['car name']\n",
        "\n",
        "# axis=1, always means columns, as we are concatenating two columns\n",
        "result = pd.concat([col_horsepower, col_carName],axis=1)\n",
        "display(result[0:5])"
      ],
      "execution_count": null,
      "outputs": [
        {
          "output_type": "display_data",
          "data": {
            "text/html": [
              "<div>\n",
              "<style scoped>\n",
              "    .dataframe tbody tr th:only-of-type {\n",
              "        vertical-align: middle;\n",
              "    }\n",
              "\n",
              "    .dataframe tbody tr th {\n",
              "        vertical-align: top;\n",
              "    }\n",
              "\n",
              "    .dataframe thead th {\n",
              "        text-align: right;\n",
              "    }\n",
              "</style>\n",
              "<table border=\"1\" class=\"dataframe\">\n",
              "  <thead>\n",
              "    <tr style=\"text-align: right;\">\n",
              "      <th></th>\n",
              "      <th>horsepower</th>\n",
              "      <th>car name</th>\n",
              "    </tr>\n",
              "  </thead>\n",
              "  <tbody>\n",
              "    <tr>\n",
              "      <th>0</th>\n",
              "      <td>130.0</td>\n",
              "      <td>chevrolet chevelle malibu</td>\n",
              "    </tr>\n",
              "    <tr>\n",
              "      <th>1</th>\n",
              "      <td>165.0</td>\n",
              "      <td>buick skylark 320</td>\n",
              "    </tr>\n",
              "    <tr>\n",
              "      <th>2</th>\n",
              "      <td>150.0</td>\n",
              "      <td>plymouth satellite</td>\n",
              "    </tr>\n",
              "    <tr>\n",
              "      <th>3</th>\n",
              "      <td>150.0</td>\n",
              "      <td>amc rebel sst</td>\n",
              "    </tr>\n",
              "    <tr>\n",
              "      <th>4</th>\n",
              "      <td>140.0</td>\n",
              "      <td>ford torino</td>\n",
              "    </tr>\n",
              "  </tbody>\n",
              "</table>\n",
              "</div>"
            ],
            "text/plain": [
              "   horsepower                   car name\n",
              "0       130.0  chevrolet chevelle malibu\n",
              "1       165.0          buick skylark 320\n",
              "2       150.0         plymouth satellite\n",
              "3       150.0              amc rebel sst\n",
              "4       140.0                ford torino"
            ]
          },
          "metadata": {
            "tags": []
          }
        }
      ]
    },
    {
      "cell_type": "markdown",
      "metadata": {
        "id": "EYS3EHkW6tA_"
      },
      "source": [
        "Concat function can also concat two rows together"
      ]
    },
    {
      "cell_type": "code",
      "metadata": {
        "id": "yC3MDkRq6yuo",
        "outputId": "c4246d30-e2e0-45fa-ca00-b8ddbef3efd4",
        "colab": {
          "base_uri": "https://localhost:8080/",
          "height": 173
        }
      },
      "source": [
        "# create a new dataframe from first two rows and last two rows\n",
        "import os\n",
        "import pandas as pd\n",
        "\n",
        "df = pd.read_csv(\"/content/sample_data/auto-mpg.csv\",na_values=['NA','?'])\n",
        "result = pd.concat([df[0:2],df[-2:]], axis=0)\n",
        "display(result)\n"
      ],
      "execution_count": null,
      "outputs": [
        {
          "output_type": "display_data",
          "data": {
            "text/html": [
              "<div>\n",
              "<style scoped>\n",
              "    .dataframe tbody tr th:only-of-type {\n",
              "        vertical-align: middle;\n",
              "    }\n",
              "\n",
              "    .dataframe tbody tr th {\n",
              "        vertical-align: top;\n",
              "    }\n",
              "\n",
              "    .dataframe thead th {\n",
              "        text-align: right;\n",
              "    }\n",
              "</style>\n",
              "<table border=\"1\" class=\"dataframe\">\n",
              "  <thead>\n",
              "    <tr style=\"text-align: right;\">\n",
              "      <th></th>\n",
              "      <th>mpg</th>\n",
              "      <th>cylinders</th>\n",
              "      <th>displacement</th>\n",
              "      <th>horsepower</th>\n",
              "      <th>weight</th>\n",
              "      <th>acceleration</th>\n",
              "      <th>model year</th>\n",
              "      <th>origin</th>\n",
              "      <th>car name</th>\n",
              "    </tr>\n",
              "  </thead>\n",
              "  <tbody>\n",
              "    <tr>\n",
              "      <th>0</th>\n",
              "      <td>18.0</td>\n",
              "      <td>8</td>\n",
              "      <td>307.0</td>\n",
              "      <td>130.0</td>\n",
              "      <td>3504</td>\n",
              "      <td>12.0</td>\n",
              "      <td>70</td>\n",
              "      <td>1</td>\n",
              "      <td>chevrolet chevelle malibu</td>\n",
              "    </tr>\n",
              "    <tr>\n",
              "      <th>1</th>\n",
              "      <td>15.0</td>\n",
              "      <td>8</td>\n",
              "      <td>350.0</td>\n",
              "      <td>165.0</td>\n",
              "      <td>3693</td>\n",
              "      <td>11.5</td>\n",
              "      <td>70</td>\n",
              "      <td>1</td>\n",
              "      <td>buick skylark 320</td>\n",
              "    </tr>\n",
              "    <tr>\n",
              "      <th>396</th>\n",
              "      <td>28.0</td>\n",
              "      <td>4</td>\n",
              "      <td>120.0</td>\n",
              "      <td>79.0</td>\n",
              "      <td>2625</td>\n",
              "      <td>18.6</td>\n",
              "      <td>82</td>\n",
              "      <td>1</td>\n",
              "      <td>ford ranger</td>\n",
              "    </tr>\n",
              "    <tr>\n",
              "      <th>397</th>\n",
              "      <td>31.0</td>\n",
              "      <td>4</td>\n",
              "      <td>119.0</td>\n",
              "      <td>82.0</td>\n",
              "      <td>2720</td>\n",
              "      <td>19.4</td>\n",
              "      <td>82</td>\n",
              "      <td>1</td>\n",
              "      <td>chevy s-10</td>\n",
              "    </tr>\n",
              "  </tbody>\n",
              "</table>\n",
              "</div>"
            ],
            "text/plain": [
              "      mpg  cylinders  ...  origin                   car name\n",
              "0    18.0          8  ...       1  chevrolet chevelle malibu\n",
              "1    15.0          8  ...       1          buick skylark 320\n",
              "396  28.0          4  ...       1                ford ranger\n",
              "397  31.0          4  ...       1                 chevy s-10\n",
              "\n",
              "[4 rows x 9 columns]"
            ]
          },
          "metadata": {
            "tags": []
          }
        }
      ]
    },
    {
      "cell_type": "markdown",
      "metadata": {
        "id": "Qi61ED-x7w3B"
      },
      "source": [
        "**Training and Validation:**\n",
        "Divide the dataset into traning and validation set"
      ]
    },
    {
      "cell_type": "code",
      "metadata": {
        "id": "0SRnBIgU8cLZ",
        "outputId": "3f3394f8-6510-4127-c076-668e7efc9b5f",
        "colab": {
          "base_uri": "https://localhost:8080/",
          "height": 289
        }
      },
      "source": [
        "import os\n",
        "import pandas as pd\n",
        "import numpy as np\n",
        "\n",
        "df = pd.read_csv(\"/content/sample_data/auto-mpg.csv\",na_values=['NA','?'])\n",
        "print(f'before random index: {df[0:5]}')\n",
        "df = df.reindex(np.random.permutation(df.index)) # usually a good idea\n",
        "print(f'after random index: {df[0:5]}')"
      ],
      "execution_count": null,
      "outputs": [
        {
          "output_type": "stream",
          "text": [
            "before random index:     mpg  cylinders  displacement  ...  model year  origin                   car name\n",
            "0  18.0          8         307.0  ...          70       1  chevrolet chevelle malibu\n",
            "1  15.0          8         350.0  ...          70       1          buick skylark 320\n",
            "2  18.0          8         318.0  ...          70       1         plymouth satellite\n",
            "3  16.0          8         304.0  ...          70       1              amc rebel sst\n",
            "4  17.0          8         302.0  ...          70       1                ford torino\n",
            "\n",
            "[5 rows x 9 columns]\n",
            "after random index:       mpg  cylinders  ...  origin                  car name\n",
            "352  29.9          4  ...       1            ford escort 2h\n",
            "368  27.0          4  ...       1  chevrolet cavalier wagon\n",
            "98   16.0          6  ...       1     chevrolet nova custom\n",
            "353  33.0          4  ...       2          volkswagen jetta\n",
            "59   23.0          4  ...       2         volkswagen type 3\n",
            "\n",
            "[5 rows x 9 columns]\n"
          ],
          "name": "stdout"
        }
      ]
    },
    {
      "cell_type": "code",
      "metadata": {
        "id": "JNwFHrgs9rTz",
        "outputId": "4513d127-c5dd-45ff-a66a-9dc6ac7e98da",
        "colab": {
          "base_uri": "https://localhost:8080/",
          "height": 51
        }
      },
      "source": [
        "mask = np.random.rand(len(df)) <0.8 # 80%  data\n",
        "trainDf= pd.DataFrame(df[mask])\n",
        "validationDf = pd.DataFrame(df[~mask])\n",
        "\n",
        "print(f'trainDf len: {len(trainDf)}')\n",
        "print(f'vaildationDf len: {len(validationDf)}')"
      ],
      "execution_count": null,
      "outputs": [
        {
          "output_type": "stream",
          "text": [
            "trainDf len: 329\n",
            "vaildationDf len: 69\n"
          ],
          "name": "stdout"
        }
      ]
    },
    {
      "cell_type": "markdown",
      "metadata": {
        "id": "pH0Gy9Er_G6u"
      },
      "source": [
        "**Converting a dataframe to matrix:**\n",
        "A neural network requires a numeric matrix. The values property of DataFrame is used to convert to a matrix"
      ]
    },
    {
      "cell_type": "code",
      "metadata": {
        "id": "6X4GVctu_gi0",
        "outputId": "941855c5-a78b-4563-f607-4bf8acadbc07",
        "colab": {
          "base_uri": "https://localhost:8080/",
          "height": 204
        }
      },
      "source": [
        "display(df[0:5])"
      ],
      "execution_count": null,
      "outputs": [
        {
          "output_type": "display_data",
          "data": {
            "text/html": [
              "<div>\n",
              "<style scoped>\n",
              "    .dataframe tbody tr th:only-of-type {\n",
              "        vertical-align: middle;\n",
              "    }\n",
              "\n",
              "    .dataframe tbody tr th {\n",
              "        vertical-align: top;\n",
              "    }\n",
              "\n",
              "    .dataframe thead th {\n",
              "        text-align: right;\n",
              "    }\n",
              "</style>\n",
              "<table border=\"1\" class=\"dataframe\">\n",
              "  <thead>\n",
              "    <tr style=\"text-align: right;\">\n",
              "      <th></th>\n",
              "      <th>mpg</th>\n",
              "      <th>cylinders</th>\n",
              "      <th>displacement</th>\n",
              "      <th>horsepower</th>\n",
              "      <th>weight</th>\n",
              "      <th>acceleration</th>\n",
              "      <th>model year</th>\n",
              "      <th>origin</th>\n",
              "      <th>car name</th>\n",
              "    </tr>\n",
              "  </thead>\n",
              "  <tbody>\n",
              "    <tr>\n",
              "      <th>352</th>\n",
              "      <td>29.9</td>\n",
              "      <td>4</td>\n",
              "      <td>98.0</td>\n",
              "      <td>65.0</td>\n",
              "      <td>2380</td>\n",
              "      <td>20.7</td>\n",
              "      <td>81</td>\n",
              "      <td>1</td>\n",
              "      <td>ford escort 2h</td>\n",
              "    </tr>\n",
              "    <tr>\n",
              "      <th>368</th>\n",
              "      <td>27.0</td>\n",
              "      <td>4</td>\n",
              "      <td>112.0</td>\n",
              "      <td>88.0</td>\n",
              "      <td>2640</td>\n",
              "      <td>18.6</td>\n",
              "      <td>82</td>\n",
              "      <td>1</td>\n",
              "      <td>chevrolet cavalier wagon</td>\n",
              "    </tr>\n",
              "    <tr>\n",
              "      <th>98</th>\n",
              "      <td>16.0</td>\n",
              "      <td>6</td>\n",
              "      <td>250.0</td>\n",
              "      <td>100.0</td>\n",
              "      <td>3278</td>\n",
              "      <td>18.0</td>\n",
              "      <td>73</td>\n",
              "      <td>1</td>\n",
              "      <td>chevrolet nova custom</td>\n",
              "    </tr>\n",
              "    <tr>\n",
              "      <th>353</th>\n",
              "      <td>33.0</td>\n",
              "      <td>4</td>\n",
              "      <td>105.0</td>\n",
              "      <td>74.0</td>\n",
              "      <td>2190</td>\n",
              "      <td>14.2</td>\n",
              "      <td>81</td>\n",
              "      <td>2</td>\n",
              "      <td>volkswagen jetta</td>\n",
              "    </tr>\n",
              "    <tr>\n",
              "      <th>59</th>\n",
              "      <td>23.0</td>\n",
              "      <td>4</td>\n",
              "      <td>97.0</td>\n",
              "      <td>54.0</td>\n",
              "      <td>2254</td>\n",
              "      <td>23.5</td>\n",
              "      <td>72</td>\n",
              "      <td>2</td>\n",
              "      <td>volkswagen type 3</td>\n",
              "    </tr>\n",
              "  </tbody>\n",
              "</table>\n",
              "</div>"
            ],
            "text/plain": [
              "      mpg  cylinders  ...  origin                  car name\n",
              "352  29.9          4  ...       1            ford escort 2h\n",
              "368  27.0          4  ...       1  chevrolet cavalier wagon\n",
              "98   16.0          6  ...       1     chevrolet nova custom\n",
              "353  33.0          4  ...       2          volkswagen jetta\n",
              "59   23.0          4  ...       2         volkswagen type 3\n",
              "\n",
              "[5 rows x 9 columns]"
            ]
          },
          "metadata": {
            "tags": []
          }
        }
      ]
    },
    {
      "cell_type": "markdown",
      "metadata": {
        "id": "YQuLwitGARan"
      },
      "source": [
        "If we want to convert only few columns, the following code gets handy"
      ]
    },
    {
      "cell_type": "code",
      "metadata": {
        "id": "FpAX67eLA37e",
        "outputId": "549d16db-7421-41c4-f57f-f38fb8379466",
        "colab": {
          "base_uri": "https://localhost:8080/",
          "height": 136
        }
      },
      "source": [
        "df.values"
      ],
      "execution_count": null,
      "outputs": [
        {
          "output_type": "execute_result",
          "data": {
            "text/plain": [
              "array([[29.9, 4, 98.0, ..., 81, 1, 'ford escort 2h'],\n",
              "       [27.0, 4, 112.0, ..., 82, 1, 'chevrolet cavalier wagon'],\n",
              "       [16.0, 6, 250.0, ..., 73, 1, 'chevrolet nova custom'],\n",
              "       ...,\n",
              "       [29.0, 4, 85.0, ..., 76, 1, 'chevrolet chevette'],\n",
              "       [32.4, 4, 108.0, ..., 81, 3, 'toyota corolla'],\n",
              "       [31.5, 4, 89.0, ..., 78, 2, 'volkswagen scirocco']], dtype=object)"
            ]
          },
          "metadata": {
            "tags": []
          },
          "execution_count": 20
        }
      ]
    },
    {
      "cell_type": "code",
      "metadata": {
        "id": "MKpFDI60AMl_",
        "outputId": "5c1cc9fa-9f17-43d4-a548-1b06db4eeab4",
        "colab": {
          "base_uri": "https://localhost:8080/",
          "height": 136
        }
      },
      "source": [
        "df[['mpg','cylinders','displacement','horsepower','weight','acceleration','model year', 'origin']].values"
      ],
      "execution_count": null,
      "outputs": [
        {
          "output_type": "execute_result",
          "data": {
            "text/plain": [
              "array([[ 29.9,   4. ,  98. , ...,  20.7,  81. ,   1. ],\n",
              "       [ 27. ,   4. , 112. , ...,  18.6,  82. ,   1. ],\n",
              "       [ 16. ,   6. , 250. , ...,  18. ,  73. ,   1. ],\n",
              "       ...,\n",
              "       [ 29. ,   4. ,  85. , ...,  22.2,  76. ,   1. ],\n",
              "       [ 32.4,   4. , 108. , ...,  16.8,  81. ,   3. ],\n",
              "       [ 31.5,   4. ,  89. , ...,  14.9,  78. ,   2. ]])"
            ]
          },
          "metadata": {
            "tags": []
          },
          "execution_count": 21
        }
      ]
    },
    {
      "cell_type": "markdown",
      "metadata": {
        "id": "BABSEZk1BLu9"
      },
      "source": [
        "**Saving a data frame to a csv**"
      ]
    },
    {
      "cell_type": "code",
      "metadata": {
        "id": "zCaEuLruBKUe",
        "outputId": "042a9041-f37d-4b66-89f5-dadcbf008da0",
        "colab": {
          "base_uri": "https://localhost:8080/",
          "height": 34
        }
      },
      "source": [
        "import os\n",
        "import pandas as pd\n",
        "import numpy as np\n",
        "\n",
        "path=\"/content/sample_data/\"\n",
        "df = pd.read_csv(\"/content/sample_data/auto-mpg.csv\",na_values=['NA','?'])\n",
        "\n",
        "filename_write = os.path.join(path,\"auto-mpg-shuffle.csv\")\n",
        "df = df.reindex(np.random.permutation(df.index))\n",
        "df.to_csv(filename_write, index=False) #Specify index = False is not write index on each row\n",
        "print(\"Done\")"
      ],
      "execution_count": null,
      "outputs": [
        {
          "output_type": "stream",
          "text": [
            "Done\n"
          ],
          "name": "stdout"
        }
      ]
    },
    {
      "cell_type": "markdown",
      "metadata": {
        "id": "Vj5DBWpTDcjv"
      },
      "source": [
        "**Saving DataFrame to Pickel**\n",
        "Pickel is more precise as compared to csv, as csv tends to lose precesion while converting"
      ]
    },
    {
      "cell_type": "code",
      "metadata": {
        "id": "hMQ-ggJED-24",
        "outputId": "55f66d85-12cd-4fd3-8e28-660d69c14090",
        "colab": {
          "base_uri": "https://localhost:8080/",
          "height": 34
        }
      },
      "source": [
        "import os\n",
        "import pandas as pd\n",
        "import numpy as np\n",
        "import pickle\n",
        "\n",
        "path=\"/content/sample_data/\"\n",
        "df = pd.read_csv(\"/content/sample_data/auto-mpg.csv\",na_values=['NA','?'])\n",
        "\n",
        "filename_write = os.path.join(path,\"auto-mpg-shuffle.pkl\")\n",
        "df = df.reindex(np.random.permutation(df.index))\n",
        "\n",
        "with open (filename_write,\"wb\") as fp:\n",
        "  pickle.dump(df,fp)\n",
        "\n",
        "print(\"Done\")"
      ],
      "execution_count": null,
      "outputs": [
        {
          "output_type": "stream",
          "text": [
            "Done\n"
          ],
          "name": "stdout"
        }
      ]
    },
    {
      "cell_type": "markdown",
      "metadata": {
        "id": "atsv-XSGVCPb"
      },
      "source": [
        "Loading the pickel file back into a memory"
      ]
    },
    {
      "cell_type": "code",
      "metadata": {
        "id": "alu470NeVIfu",
        "outputId": "c6ab6de7-7ecd-4bbb-e291-3a2aa0bad5b1",
        "colab": {
          "base_uri": "https://localhost:8080/",
          "height": 204
        }
      },
      "source": [
        "import os\n",
        "import pandas as pd\n",
        "import numpy as np\n",
        "import pickle\n",
        "\n",
        "path=\"/content/sample_data/\"\n",
        "df = pd.read_csv(\"/content/sample_data/auto-mpg.csv\",na_values=['NA','?'])\n",
        "\n",
        "filename_read = os.path.join(path,\"auto-mpg-shuffle.pkl\")\n",
        "\n",
        "with open(filename_read,\"rb\") as fp:\n",
        "  df = pickle.load(fp)\n",
        "\n",
        "display(df[0:5])\n"
      ],
      "execution_count": null,
      "outputs": [
        {
          "output_type": "display_data",
          "data": {
            "text/html": [
              "<div>\n",
              "<style scoped>\n",
              "    .dataframe tbody tr th:only-of-type {\n",
              "        vertical-align: middle;\n",
              "    }\n",
              "\n",
              "    .dataframe tbody tr th {\n",
              "        vertical-align: top;\n",
              "    }\n",
              "\n",
              "    .dataframe thead th {\n",
              "        text-align: right;\n",
              "    }\n",
              "</style>\n",
              "<table border=\"1\" class=\"dataframe\">\n",
              "  <thead>\n",
              "    <tr style=\"text-align: right;\">\n",
              "      <th></th>\n",
              "      <th>mpg</th>\n",
              "      <th>cylinders</th>\n",
              "      <th>displacement</th>\n",
              "      <th>horsepower</th>\n",
              "      <th>weight</th>\n",
              "      <th>acceleration</th>\n",
              "      <th>model year</th>\n",
              "      <th>origin</th>\n",
              "      <th>car name</th>\n",
              "    </tr>\n",
              "  </thead>\n",
              "  <tbody>\n",
              "    <tr>\n",
              "      <th>58</th>\n",
              "      <td>25.0</td>\n",
              "      <td>4</td>\n",
              "      <td>97.5</td>\n",
              "      <td>80.0</td>\n",
              "      <td>2126</td>\n",
              "      <td>17.0</td>\n",
              "      <td>72</td>\n",
              "      <td>1</td>\n",
              "      <td>dodge colt hardtop</td>\n",
              "    </tr>\n",
              "    <tr>\n",
              "      <th>95</th>\n",
              "      <td>12.0</td>\n",
              "      <td>8</td>\n",
              "      <td>455.0</td>\n",
              "      <td>225.0</td>\n",
              "      <td>4951</td>\n",
              "      <td>11.0</td>\n",
              "      <td>73</td>\n",
              "      <td>1</td>\n",
              "      <td>buick electra 225 custom</td>\n",
              "    </tr>\n",
              "    <tr>\n",
              "      <th>124</th>\n",
              "      <td>11.0</td>\n",
              "      <td>8</td>\n",
              "      <td>350.0</td>\n",
              "      <td>180.0</td>\n",
              "      <td>3664</td>\n",
              "      <td>11.0</td>\n",
              "      <td>73</td>\n",
              "      <td>1</td>\n",
              "      <td>oldsmobile omega</td>\n",
              "    </tr>\n",
              "    <tr>\n",
              "      <th>381</th>\n",
              "      <td>36.0</td>\n",
              "      <td>4</td>\n",
              "      <td>107.0</td>\n",
              "      <td>75.0</td>\n",
              "      <td>2205</td>\n",
              "      <td>14.5</td>\n",
              "      <td>82</td>\n",
              "      <td>3</td>\n",
              "      <td>honda accord</td>\n",
              "    </tr>\n",
              "    <tr>\n",
              "      <th>353</th>\n",
              "      <td>33.0</td>\n",
              "      <td>4</td>\n",
              "      <td>105.0</td>\n",
              "      <td>74.0</td>\n",
              "      <td>2190</td>\n",
              "      <td>14.2</td>\n",
              "      <td>81</td>\n",
              "      <td>2</td>\n",
              "      <td>volkswagen jetta</td>\n",
              "    </tr>\n",
              "  </tbody>\n",
              "</table>\n",
              "</div>"
            ],
            "text/plain": [
              "      mpg  cylinders  ...  origin                  car name\n",
              "58   25.0          4  ...       1        dodge colt hardtop\n",
              "95   12.0          8  ...       1  buick electra 225 custom\n",
              "124  11.0          8  ...       1          oldsmobile omega\n",
              "381  36.0          4  ...       3              honda accord\n",
              "353  33.0          4  ...       2          volkswagen jetta\n",
              "\n",
              "[5 rows x 9 columns]"
            ]
          },
          "metadata": {
            "tags": []
          }
        }
      ]
    },
    {
      "cell_type": "markdown",
      "metadata": {
        "id": "M_lVahFKos0q"
      },
      "source": [
        "**Categorical and Continous values:**\n",
        "There are four types of data:\n",
        "Character Data(Strings)\n",
        ">**Nominal**: Individual discrete item, no order. ex: color, zip code, shape\n",
        "\n",
        ">**Ordinal**: Individual descrete item, that can be ordered. ex: Grade Level, Job Title\n",
        "\n",
        "Numeric Data:\n",
        ">**Interval**: Numeric values, no defined start. ex: temperature\n",
        "\n",
        ">**Ratio**: Numeric values, clearly defined start. ex: speed, we can say, the first can is going twice as fast as second.\n",
        "\n",
        "**Encoding Continous values:**\n",
        "One common transformation is to normalize the inputs. One very common machine learning normalization is the z-score.\n",
        "\n",
        "\n",
        ">z = (x – μ) / σ\n",
        "\n",
        ">μ=x' = x1+x2+x3+....+xn/n\n",
        "\n",
        "The standard deviation is calculated as follows:\n",
        "> s =  sqrt(1/n summation(square(xi-μ))\n",
        "\n",
        "The z score tells you how many standard deviations from the mean your score is. 0 z-score means exactly at the mean, -1 z-score means one std below the mean and 1 z-score means one std above the mean.\n",
        "\n",
        "Note: z-score above below -3 to 3, are very rare, these are outliers."
      ]
    },
    {
      "cell_type": "code",
      "metadata": {
        "id": "qSRPxqHl5d3f",
        "outputId": "099d438f-21af-4c62-ddc5-cc16b5ea2b2d",
        "colab": {
          "base_uri": "https://localhost:8080/",
          "height": 119
        }
      },
      "source": [
        "# replaces mpg with z-score\n",
        "import os\n",
        "import pandas as pd\n",
        "from scipy.stats import zscore\n",
        "\n",
        "df = pd.read_csv(\"/content/sample_data/auto-mpg.csv\",na_values=['NA','?'])\n",
        "\n",
        "display(df['mpg'][0:5])"
      ],
      "execution_count": null,
      "outputs": [
        {
          "output_type": "display_data",
          "data": {
            "text/plain": [
              "0    18.0\n",
              "1    15.0\n",
              "2    18.0\n",
              "3    16.0\n",
              "4    17.0\n",
              "Name: mpg, dtype: float64"
            ]
          },
          "metadata": {
            "tags": []
          }
        }
      ]
    },
    {
      "cell_type": "code",
      "metadata": {
        "id": "AoMCi1u56nSg",
        "outputId": "2eda09c9-0469-402b-b16f-6398d823ff06",
        "colab": {
          "base_uri": "https://localhost:8080/",
          "height": 221
        }
      },
      "source": [
        "print(\"after applying zscore\")\n",
        "df['mpg'] = zscore(df['mpg'])\n",
        "display(df[0:5])"
      ],
      "execution_count": null,
      "outputs": [
        {
          "output_type": "stream",
          "text": [
            "after applying zscore\n"
          ],
          "name": "stdout"
        },
        {
          "output_type": "display_data",
          "data": {
            "text/html": [
              "<div>\n",
              "<style scoped>\n",
              "    .dataframe tbody tr th:only-of-type {\n",
              "        vertical-align: middle;\n",
              "    }\n",
              "\n",
              "    .dataframe tbody tr th {\n",
              "        vertical-align: top;\n",
              "    }\n",
              "\n",
              "    .dataframe thead th {\n",
              "        text-align: right;\n",
              "    }\n",
              "</style>\n",
              "<table border=\"1\" class=\"dataframe\">\n",
              "  <thead>\n",
              "    <tr style=\"text-align: right;\">\n",
              "      <th></th>\n",
              "      <th>mpg</th>\n",
              "      <th>cylinders</th>\n",
              "      <th>displacement</th>\n",
              "      <th>horsepower</th>\n",
              "      <th>weight</th>\n",
              "      <th>acceleration</th>\n",
              "      <th>model year</th>\n",
              "      <th>origin</th>\n",
              "      <th>car name</th>\n",
              "    </tr>\n",
              "  </thead>\n",
              "  <tbody>\n",
              "    <tr>\n",
              "      <th>0</th>\n",
              "      <td>-0.706439</td>\n",
              "      <td>8</td>\n",
              "      <td>307.0</td>\n",
              "      <td>130.0</td>\n",
              "      <td>3504</td>\n",
              "      <td>12.0</td>\n",
              "      <td>70</td>\n",
              "      <td>1</td>\n",
              "      <td>chevrolet chevelle malibu</td>\n",
              "    </tr>\n",
              "    <tr>\n",
              "      <th>1</th>\n",
              "      <td>-1.090751</td>\n",
              "      <td>8</td>\n",
              "      <td>350.0</td>\n",
              "      <td>165.0</td>\n",
              "      <td>3693</td>\n",
              "      <td>11.5</td>\n",
              "      <td>70</td>\n",
              "      <td>1</td>\n",
              "      <td>buick skylark 320</td>\n",
              "    </tr>\n",
              "    <tr>\n",
              "      <th>2</th>\n",
              "      <td>-0.706439</td>\n",
              "      <td>8</td>\n",
              "      <td>318.0</td>\n",
              "      <td>150.0</td>\n",
              "      <td>3436</td>\n",
              "      <td>11.0</td>\n",
              "      <td>70</td>\n",
              "      <td>1</td>\n",
              "      <td>plymouth satellite</td>\n",
              "    </tr>\n",
              "    <tr>\n",
              "      <th>3</th>\n",
              "      <td>-0.962647</td>\n",
              "      <td>8</td>\n",
              "      <td>304.0</td>\n",
              "      <td>150.0</td>\n",
              "      <td>3433</td>\n",
              "      <td>12.0</td>\n",
              "      <td>70</td>\n",
              "      <td>1</td>\n",
              "      <td>amc rebel sst</td>\n",
              "    </tr>\n",
              "    <tr>\n",
              "      <th>4</th>\n",
              "      <td>-0.834543</td>\n",
              "      <td>8</td>\n",
              "      <td>302.0</td>\n",
              "      <td>140.0</td>\n",
              "      <td>3449</td>\n",
              "      <td>10.5</td>\n",
              "      <td>70</td>\n",
              "      <td>1</td>\n",
              "      <td>ford torino</td>\n",
              "    </tr>\n",
              "  </tbody>\n",
              "</table>\n",
              "</div>"
            ],
            "text/plain": [
              "        mpg  cylinders  ...  origin                   car name\n",
              "0 -0.706439          8  ...       1  chevrolet chevelle malibu\n",
              "1 -1.090751          8  ...       1          buick skylark 320\n",
              "2 -0.706439          8  ...       1         plymouth satellite\n",
              "3 -0.962647          8  ...       1              amc rebel sst\n",
              "4 -0.834543          8  ...       1                ford torino\n",
              "\n",
              "[5 rows x 9 columns]"
            ]
          },
          "metadata": {
            "tags": []
          }
        }
      ]
    },
    {
      "cell_type": "markdown",
      "metadata": {
        "id": "a5azMb2b7CLU"
      },
      "source": [
        "**Encoding categorical values as dummies:**\n",
        "Also called one-hot encoding"
      ]
    },
    {
      "cell_type": "code",
      "metadata": {
        "id": "bKwWUAK57BSu",
        "outputId": "c4731c18-a3f6-454a-9080-c1d79df7b4e8",
        "colab": {
          "base_uri": "https://localhost:8080/",
          "height": 204
        }
      },
      "source": [
        "import pandas as pd\n",
        "\n",
        "df = pd.read_csv(\"https://data.heatonresearch.com/data/t81-558/jh-simple-dataset.csv\",na_values=['NA','?'])\n",
        "display(df[0:5])"
      ],
      "execution_count": null,
      "outputs": [
        {
          "output_type": "display_data",
          "data": {
            "text/html": [
              "<div>\n",
              "<style scoped>\n",
              "    .dataframe tbody tr th:only-of-type {\n",
              "        vertical-align: middle;\n",
              "    }\n",
              "\n",
              "    .dataframe tbody tr th {\n",
              "        vertical-align: top;\n",
              "    }\n",
              "\n",
              "    .dataframe thead th {\n",
              "        text-align: right;\n",
              "    }\n",
              "</style>\n",
              "<table border=\"1\" class=\"dataframe\">\n",
              "  <thead>\n",
              "    <tr style=\"text-align: right;\">\n",
              "      <th></th>\n",
              "      <th>id</th>\n",
              "      <th>job</th>\n",
              "      <th>area</th>\n",
              "      <th>income</th>\n",
              "      <th>aspect</th>\n",
              "      <th>subscriptions</th>\n",
              "      <th>dist_healthy</th>\n",
              "      <th>save_rate</th>\n",
              "      <th>dist_unhealthy</th>\n",
              "      <th>age</th>\n",
              "      <th>pop_dense</th>\n",
              "      <th>retail_dense</th>\n",
              "      <th>crime</th>\n",
              "      <th>product</th>\n",
              "    </tr>\n",
              "  </thead>\n",
              "  <tbody>\n",
              "    <tr>\n",
              "      <th>0</th>\n",
              "      <td>1</td>\n",
              "      <td>vv</td>\n",
              "      <td>c</td>\n",
              "      <td>50876.0</td>\n",
              "      <td>13.100000</td>\n",
              "      <td>1</td>\n",
              "      <td>9.017895</td>\n",
              "      <td>35</td>\n",
              "      <td>11.738935</td>\n",
              "      <td>49</td>\n",
              "      <td>0.885827</td>\n",
              "      <td>0.492126</td>\n",
              "      <td>0.071100</td>\n",
              "      <td>b</td>\n",
              "    </tr>\n",
              "    <tr>\n",
              "      <th>1</th>\n",
              "      <td>2</td>\n",
              "      <td>kd</td>\n",
              "      <td>c</td>\n",
              "      <td>60369.0</td>\n",
              "      <td>18.625000</td>\n",
              "      <td>2</td>\n",
              "      <td>7.766643</td>\n",
              "      <td>59</td>\n",
              "      <td>6.805396</td>\n",
              "      <td>51</td>\n",
              "      <td>0.874016</td>\n",
              "      <td>0.342520</td>\n",
              "      <td>0.400809</td>\n",
              "      <td>c</td>\n",
              "    </tr>\n",
              "    <tr>\n",
              "      <th>2</th>\n",
              "      <td>3</td>\n",
              "      <td>pe</td>\n",
              "      <td>c</td>\n",
              "      <td>55126.0</td>\n",
              "      <td>34.766667</td>\n",
              "      <td>1</td>\n",
              "      <td>3.632069</td>\n",
              "      <td>6</td>\n",
              "      <td>13.671772</td>\n",
              "      <td>44</td>\n",
              "      <td>0.944882</td>\n",
              "      <td>0.724409</td>\n",
              "      <td>0.207723</td>\n",
              "      <td>b</td>\n",
              "    </tr>\n",
              "    <tr>\n",
              "      <th>3</th>\n",
              "      <td>4</td>\n",
              "      <td>11</td>\n",
              "      <td>c</td>\n",
              "      <td>51690.0</td>\n",
              "      <td>15.808333</td>\n",
              "      <td>1</td>\n",
              "      <td>5.372942</td>\n",
              "      <td>16</td>\n",
              "      <td>4.333286</td>\n",
              "      <td>50</td>\n",
              "      <td>0.889764</td>\n",
              "      <td>0.444882</td>\n",
              "      <td>0.361216</td>\n",
              "      <td>b</td>\n",
              "    </tr>\n",
              "    <tr>\n",
              "      <th>4</th>\n",
              "      <td>5</td>\n",
              "      <td>kl</td>\n",
              "      <td>d</td>\n",
              "      <td>28347.0</td>\n",
              "      <td>40.941667</td>\n",
              "      <td>3</td>\n",
              "      <td>3.822477</td>\n",
              "      <td>20</td>\n",
              "      <td>5.967121</td>\n",
              "      <td>38</td>\n",
              "      <td>0.744094</td>\n",
              "      <td>0.661417</td>\n",
              "      <td>0.068033</td>\n",
              "      <td>a</td>\n",
              "    </tr>\n",
              "  </tbody>\n",
              "</table>\n",
              "</div>"
            ],
            "text/plain": [
              "   id job area   income  ...  pop_dense  retail_dense     crime  product\n",
              "0   1  vv    c  50876.0  ...   0.885827      0.492126  0.071100        b\n",
              "1   2  kd    c  60369.0  ...   0.874016      0.342520  0.400809        c\n",
              "2   3  pe    c  55126.0  ...   0.944882      0.724409  0.207723        b\n",
              "3   4  11    c  51690.0  ...   0.889764      0.444882  0.361216        b\n",
              "4   5  kl    d  28347.0  ...   0.744094      0.661417  0.068033        a\n",
              "\n",
              "[5 rows x 14 columns]"
            ]
          },
          "metadata": {
            "tags": []
          }
        }
      ]
    },
    {
      "cell_type": "code",
      "metadata": {
        "id": "qT1vUA_MAMs_",
        "outputId": "3e0e57c2-d776-4f3b-fc94-699d205ef0c5",
        "colab": {
          "base_uri": "https://localhost:8080/",
          "height": 51
        }
      },
      "source": [
        "areas = list(df['area'].unique())\n",
        "print(f'Number of areas: {len(areas)}')\n",
        "print(f'areas: {areas}')"
      ],
      "execution_count": null,
      "outputs": [
        {
          "output_type": "stream",
          "text": [
            "Number of areas: 4\n",
            "areas: ['c', 'd', 'a', 'b']\n"
          ],
          "name": "stdout"
        }
      ]
    },
    {
      "cell_type": "markdown",
      "metadata": {
        "id": "XEhekpOiBA_u"
      },
      "source": [
        "There are 4 unique values in areas column. To encode these to dummy variables we would use four columns, each of which would represent one of the areas. Value for 'a' becomes [1,0,0,0], value for 'b' becomes [0,1,0,0], c= [0,0,1,0] and d=[0,0,0,1]."
      ]
    },
    {
      "cell_type": "code",
      "metadata": {
        "id": "z2oMTvN-B-ju",
        "outputId": "10d00ba4-9932-434b-adcb-fd849649f276",
        "colab": {
          "base_uri": "https://localhost:8080/",
          "height": 102
        }
      },
      "source": [
        "dummies = pd.get_dummies(['a','b','c','d'], prefix='area')\n",
        "print(dummies)"
      ],
      "execution_count": null,
      "outputs": [
        {
          "output_type": "stream",
          "text": [
            "   area_a  area_b  area_c  area_d\n",
            "0       1       0       0       0\n",
            "1       0       1       0       0\n",
            "2       0       0       1       0\n",
            "3       0       0       0       1\n"
          ],
          "name": "stdout"
        }
      ]
    },
    {
      "cell_type": "markdown",
      "metadata": {
        "id": "kshiV29NDmxt"
      },
      "source": [
        "To encode the 'area' column we use the following. It is  necessary to merge these dummies back into the dataframe."
      ]
    },
    {
      "cell_type": "code",
      "metadata": {
        "id": "oFvrxJ97FCLo",
        "outputId": "dc25c55e-793f-4c5a-b73c-6378a6ce4f62",
        "colab": {
          "base_uri": "https://localhost:8080/",
          "height": 204
        }
      },
      "source": [
        "dummies = pd.get_dummies(df['area'],prefix='area')\n",
        "print(dummies[0:10])"
      ],
      "execution_count": null,
      "outputs": [
        {
          "output_type": "stream",
          "text": [
            "   area_a  area_b  area_c  area_d\n",
            "0       0       0       1       0\n",
            "1       0       0       1       0\n",
            "2       0       0       1       0\n",
            "3       0       0       1       0\n",
            "4       0       0       0       1\n",
            "5       0       0       1       0\n",
            "6       0       0       0       1\n",
            "7       1       0       0       0\n",
            "8       0       0       1       0\n",
            "9       1       0       0       0\n"
          ],
          "name": "stdout"
        }
      ]
    },
    {
      "cell_type": "code",
      "metadata": {
        "id": "hwOFR0ZUFTp7",
        "outputId": "b1111c9e-4865-49df-e3d2-1d001800796d",
        "colab": {
          "base_uri": "https://localhost:8080/",
          "height": 379
        }
      },
      "source": [
        "df = pd.concat([df,dummies], axis=1)\n",
        "display(df[0:10])"
      ],
      "execution_count": null,
      "outputs": [
        {
          "output_type": "display_data",
          "data": {
            "text/html": [
              "<div>\n",
              "<style scoped>\n",
              "    .dataframe tbody tr th:only-of-type {\n",
              "        vertical-align: middle;\n",
              "    }\n",
              "\n",
              "    .dataframe tbody tr th {\n",
              "        vertical-align: top;\n",
              "    }\n",
              "\n",
              "    .dataframe thead th {\n",
              "        text-align: right;\n",
              "    }\n",
              "</style>\n",
              "<table border=\"1\" class=\"dataframe\">\n",
              "  <thead>\n",
              "    <tr style=\"text-align: right;\">\n",
              "      <th></th>\n",
              "      <th>id</th>\n",
              "      <th>job</th>\n",
              "      <th>area</th>\n",
              "      <th>income</th>\n",
              "      <th>aspect</th>\n",
              "      <th>subscriptions</th>\n",
              "      <th>dist_healthy</th>\n",
              "      <th>save_rate</th>\n",
              "      <th>dist_unhealthy</th>\n",
              "      <th>age</th>\n",
              "      <th>pop_dense</th>\n",
              "      <th>retail_dense</th>\n",
              "      <th>crime</th>\n",
              "      <th>product</th>\n",
              "      <th>area_a</th>\n",
              "      <th>area_b</th>\n",
              "      <th>area_c</th>\n",
              "      <th>area_d</th>\n",
              "    </tr>\n",
              "  </thead>\n",
              "  <tbody>\n",
              "    <tr>\n",
              "      <th>0</th>\n",
              "      <td>1</td>\n",
              "      <td>vv</td>\n",
              "      <td>c</td>\n",
              "      <td>50876.0</td>\n",
              "      <td>13.100000</td>\n",
              "      <td>1</td>\n",
              "      <td>9.017895</td>\n",
              "      <td>35</td>\n",
              "      <td>11.738935</td>\n",
              "      <td>49</td>\n",
              "      <td>0.885827</td>\n",
              "      <td>0.492126</td>\n",
              "      <td>0.071100</td>\n",
              "      <td>b</td>\n",
              "      <td>0</td>\n",
              "      <td>0</td>\n",
              "      <td>1</td>\n",
              "      <td>0</td>\n",
              "    </tr>\n",
              "    <tr>\n",
              "      <th>1</th>\n",
              "      <td>2</td>\n",
              "      <td>kd</td>\n",
              "      <td>c</td>\n",
              "      <td>60369.0</td>\n",
              "      <td>18.625000</td>\n",
              "      <td>2</td>\n",
              "      <td>7.766643</td>\n",
              "      <td>59</td>\n",
              "      <td>6.805396</td>\n",
              "      <td>51</td>\n",
              "      <td>0.874016</td>\n",
              "      <td>0.342520</td>\n",
              "      <td>0.400809</td>\n",
              "      <td>c</td>\n",
              "      <td>0</td>\n",
              "      <td>0</td>\n",
              "      <td>1</td>\n",
              "      <td>0</td>\n",
              "    </tr>\n",
              "    <tr>\n",
              "      <th>2</th>\n",
              "      <td>3</td>\n",
              "      <td>pe</td>\n",
              "      <td>c</td>\n",
              "      <td>55126.0</td>\n",
              "      <td>34.766667</td>\n",
              "      <td>1</td>\n",
              "      <td>3.632069</td>\n",
              "      <td>6</td>\n",
              "      <td>13.671772</td>\n",
              "      <td>44</td>\n",
              "      <td>0.944882</td>\n",
              "      <td>0.724409</td>\n",
              "      <td>0.207723</td>\n",
              "      <td>b</td>\n",
              "      <td>0</td>\n",
              "      <td>0</td>\n",
              "      <td>1</td>\n",
              "      <td>0</td>\n",
              "    </tr>\n",
              "    <tr>\n",
              "      <th>3</th>\n",
              "      <td>4</td>\n",
              "      <td>11</td>\n",
              "      <td>c</td>\n",
              "      <td>51690.0</td>\n",
              "      <td>15.808333</td>\n",
              "      <td>1</td>\n",
              "      <td>5.372942</td>\n",
              "      <td>16</td>\n",
              "      <td>4.333286</td>\n",
              "      <td>50</td>\n",
              "      <td>0.889764</td>\n",
              "      <td>0.444882</td>\n",
              "      <td>0.361216</td>\n",
              "      <td>b</td>\n",
              "      <td>0</td>\n",
              "      <td>0</td>\n",
              "      <td>1</td>\n",
              "      <td>0</td>\n",
              "    </tr>\n",
              "    <tr>\n",
              "      <th>4</th>\n",
              "      <td>5</td>\n",
              "      <td>kl</td>\n",
              "      <td>d</td>\n",
              "      <td>28347.0</td>\n",
              "      <td>40.941667</td>\n",
              "      <td>3</td>\n",
              "      <td>3.822477</td>\n",
              "      <td>20</td>\n",
              "      <td>5.967121</td>\n",
              "      <td>38</td>\n",
              "      <td>0.744094</td>\n",
              "      <td>0.661417</td>\n",
              "      <td>0.068033</td>\n",
              "      <td>a</td>\n",
              "      <td>0</td>\n",
              "      <td>0</td>\n",
              "      <td>0</td>\n",
              "      <td>1</td>\n",
              "    </tr>\n",
              "    <tr>\n",
              "      <th>5</th>\n",
              "      <td>6</td>\n",
              "      <td>e2</td>\n",
              "      <td>c</td>\n",
              "      <td>70854.0</td>\n",
              "      <td>40.400000</td>\n",
              "      <td>1</td>\n",
              "      <td>14.893343</td>\n",
              "      <td>87</td>\n",
              "      <td>20.340593</td>\n",
              "      <td>43</td>\n",
              "      <td>0.866142</td>\n",
              "      <td>0.673228</td>\n",
              "      <td>0.473581</td>\n",
              "      <td>d</td>\n",
              "      <td>0</td>\n",
              "      <td>0</td>\n",
              "      <td>1</td>\n",
              "      <td>0</td>\n",
              "    </tr>\n",
              "    <tr>\n",
              "      <th>6</th>\n",
              "      <td>7</td>\n",
              "      <td>kl</td>\n",
              "      <td>d</td>\n",
              "      <td>38726.0</td>\n",
              "      <td>30.975000</td>\n",
              "      <td>3</td>\n",
              "      <td>3.822477</td>\n",
              "      <td>33</td>\n",
              "      <td>9.480399</td>\n",
              "      <td>39</td>\n",
              "      <td>0.976378</td>\n",
              "      <td>0.874016</td>\n",
              "      <td>0.092151</td>\n",
              "      <td>f</td>\n",
              "      <td>0</td>\n",
              "      <td>0</td>\n",
              "      <td>0</td>\n",
              "      <td>1</td>\n",
              "    </tr>\n",
              "    <tr>\n",
              "      <th>7</th>\n",
              "      <td>8</td>\n",
              "      <td>nb</td>\n",
              "      <td>a</td>\n",
              "      <td>55162.0</td>\n",
              "      <td>26.966667</td>\n",
              "      <td>2</td>\n",
              "      <td>4.312097</td>\n",
              "      <td>17</td>\n",
              "      <td>29.219896</td>\n",
              "      <td>44</td>\n",
              "      <td>1.000000</td>\n",
              "      <td>0.724409</td>\n",
              "      <td>0.162833</td>\n",
              "      <td>b</td>\n",
              "      <td>1</td>\n",
              "      <td>0</td>\n",
              "      <td>0</td>\n",
              "      <td>0</td>\n",
              "    </tr>\n",
              "    <tr>\n",
              "      <th>8</th>\n",
              "      <td>9</td>\n",
              "      <td>al</td>\n",
              "      <td>c</td>\n",
              "      <td>67311.0</td>\n",
              "      <td>32.383333</td>\n",
              "      <td>0</td>\n",
              "      <td>25.093772</td>\n",
              "      <td>169</td>\n",
              "      <td>10.927357</td>\n",
              "      <td>45</td>\n",
              "      <td>0.952756</td>\n",
              "      <td>0.681102</td>\n",
              "      <td>0.096333</td>\n",
              "      <td>c</td>\n",
              "      <td>0</td>\n",
              "      <td>0</td>\n",
              "      <td>1</td>\n",
              "      <td>0</td>\n",
              "    </tr>\n",
              "    <tr>\n",
              "      <th>9</th>\n",
              "      <td>10</td>\n",
              "      <td>pe</td>\n",
              "      <td>a</td>\n",
              "      <td>63344.0</td>\n",
              "      <td>38.233333</td>\n",
              "      <td>1</td>\n",
              "      <td>2.816034</td>\n",
              "      <td>3</td>\n",
              "      <td>21.915695</td>\n",
              "      <td>42</td>\n",
              "      <td>0.897638</td>\n",
              "      <td>0.724409</td>\n",
              "      <td>0.173986</td>\n",
              "      <td>c</td>\n",
              "      <td>1</td>\n",
              "      <td>0</td>\n",
              "      <td>0</td>\n",
              "      <td>0</td>\n",
              "    </tr>\n",
              "  </tbody>\n",
              "</table>\n",
              "</div>"
            ],
            "text/plain": [
              "   id job area   income     aspect  ...  product  area_a  area_b  area_c  area_d\n",
              "0   1  vv    c  50876.0  13.100000  ...        b       0       0       1       0\n",
              "1   2  kd    c  60369.0  18.625000  ...        c       0       0       1       0\n",
              "2   3  pe    c  55126.0  34.766667  ...        b       0       0       1       0\n",
              "3   4  11    c  51690.0  15.808333  ...        b       0       0       1       0\n",
              "4   5  kl    d  28347.0  40.941667  ...        a       0       0       0       1\n",
              "5   6  e2    c  70854.0  40.400000  ...        d       0       0       1       0\n",
              "6   7  kl    d  38726.0  30.975000  ...        f       0       0       0       1\n",
              "7   8  nb    a  55162.0  26.966667  ...        b       1       0       0       0\n",
              "8   9  al    c  67311.0  32.383333  ...        c       0       0       1       0\n",
              "9  10  pe    a  63344.0  38.233333  ...        c       1       0       0       0\n",
              "\n",
              "[10 rows x 18 columns]"
            ]
          },
          "metadata": {
            "tags": []
          }
        }
      ]
    },
    {
      "cell_type": "code",
      "metadata": {
        "id": "CJDX1hugbqZZ",
        "outputId": "d1200511-91b7-4073-8d72-528e8a7f7818",
        "colab": {
          "base_uri": "https://localhost:8080/",
          "height": 224
        }
      },
      "source": [
        "df.drop('area',axis=1,inplace=True)\n",
        "display(df[0:5])"
      ],
      "execution_count": null,
      "outputs": [
        {
          "output_type": "display_data",
          "data": {
            "text/html": [
              "<div>\n",
              "<style scoped>\n",
              "    .dataframe tbody tr th:only-of-type {\n",
              "        vertical-align: middle;\n",
              "    }\n",
              "\n",
              "    .dataframe tbody tr th {\n",
              "        vertical-align: top;\n",
              "    }\n",
              "\n",
              "    .dataframe thead th {\n",
              "        text-align: right;\n",
              "    }\n",
              "</style>\n",
              "<table border=\"1\" class=\"dataframe\">\n",
              "  <thead>\n",
              "    <tr style=\"text-align: right;\">\n",
              "      <th></th>\n",
              "      <th>id</th>\n",
              "      <th>job</th>\n",
              "      <th>income</th>\n",
              "      <th>aspect</th>\n",
              "      <th>subscriptions</th>\n",
              "      <th>dist_healthy</th>\n",
              "      <th>save_rate</th>\n",
              "      <th>dist_unhealthy</th>\n",
              "      <th>age</th>\n",
              "      <th>pop_dense</th>\n",
              "      <th>retail_dense</th>\n",
              "      <th>crime</th>\n",
              "      <th>product</th>\n",
              "      <th>area_a</th>\n",
              "      <th>area_b</th>\n",
              "      <th>area_c</th>\n",
              "      <th>area_d</th>\n",
              "    </tr>\n",
              "  </thead>\n",
              "  <tbody>\n",
              "    <tr>\n",
              "      <th>0</th>\n",
              "      <td>1</td>\n",
              "      <td>vv</td>\n",
              "      <td>50876.0</td>\n",
              "      <td>13.100000</td>\n",
              "      <td>1</td>\n",
              "      <td>9.017895</td>\n",
              "      <td>35</td>\n",
              "      <td>11.738935</td>\n",
              "      <td>49</td>\n",
              "      <td>0.885827</td>\n",
              "      <td>0.492126</td>\n",
              "      <td>0.071100</td>\n",
              "      <td>b</td>\n",
              "      <td>0</td>\n",
              "      <td>0</td>\n",
              "      <td>1</td>\n",
              "      <td>0</td>\n",
              "    </tr>\n",
              "    <tr>\n",
              "      <th>1</th>\n",
              "      <td>2</td>\n",
              "      <td>kd</td>\n",
              "      <td>60369.0</td>\n",
              "      <td>18.625000</td>\n",
              "      <td>2</td>\n",
              "      <td>7.766643</td>\n",
              "      <td>59</td>\n",
              "      <td>6.805396</td>\n",
              "      <td>51</td>\n",
              "      <td>0.874016</td>\n",
              "      <td>0.342520</td>\n",
              "      <td>0.400809</td>\n",
              "      <td>c</td>\n",
              "      <td>0</td>\n",
              "      <td>0</td>\n",
              "      <td>1</td>\n",
              "      <td>0</td>\n",
              "    </tr>\n",
              "    <tr>\n",
              "      <th>2</th>\n",
              "      <td>3</td>\n",
              "      <td>pe</td>\n",
              "      <td>55126.0</td>\n",
              "      <td>34.766667</td>\n",
              "      <td>1</td>\n",
              "      <td>3.632069</td>\n",
              "      <td>6</td>\n",
              "      <td>13.671772</td>\n",
              "      <td>44</td>\n",
              "      <td>0.944882</td>\n",
              "      <td>0.724409</td>\n",
              "      <td>0.207723</td>\n",
              "      <td>b</td>\n",
              "      <td>0</td>\n",
              "      <td>0</td>\n",
              "      <td>1</td>\n",
              "      <td>0</td>\n",
              "    </tr>\n",
              "    <tr>\n",
              "      <th>3</th>\n",
              "      <td>4</td>\n",
              "      <td>11</td>\n",
              "      <td>51690.0</td>\n",
              "      <td>15.808333</td>\n",
              "      <td>1</td>\n",
              "      <td>5.372942</td>\n",
              "      <td>16</td>\n",
              "      <td>4.333286</td>\n",
              "      <td>50</td>\n",
              "      <td>0.889764</td>\n",
              "      <td>0.444882</td>\n",
              "      <td>0.361216</td>\n",
              "      <td>b</td>\n",
              "      <td>0</td>\n",
              "      <td>0</td>\n",
              "      <td>1</td>\n",
              "      <td>0</td>\n",
              "    </tr>\n",
              "    <tr>\n",
              "      <th>4</th>\n",
              "      <td>5</td>\n",
              "      <td>kl</td>\n",
              "      <td>28347.0</td>\n",
              "      <td>40.941667</td>\n",
              "      <td>3</td>\n",
              "      <td>3.822477</td>\n",
              "      <td>20</td>\n",
              "      <td>5.967121</td>\n",
              "      <td>38</td>\n",
              "      <td>0.744094</td>\n",
              "      <td>0.661417</td>\n",
              "      <td>0.068033</td>\n",
              "      <td>a</td>\n",
              "      <td>0</td>\n",
              "      <td>0</td>\n",
              "      <td>0</td>\n",
              "      <td>1</td>\n",
              "    </tr>\n",
              "  </tbody>\n",
              "</table>\n",
              "</div>"
            ],
            "text/plain": [
              "   id job   income     aspect  ...  area_a  area_b  area_c  area_d\n",
              "0   1  vv  50876.0  13.100000  ...       0       0       1       0\n",
              "1   2  kd  60369.0  18.625000  ...       0       0       1       0\n",
              "2   3  pe  55126.0  34.766667  ...       0       0       1       0\n",
              "3   4  11  51690.0  15.808333  ...       0       0       1       0\n",
              "4   5  kl  28347.0  40.941667  ...       0       0       0       1\n",
              "\n",
              "[5 rows x 17 columns]"
            ]
          },
          "metadata": {
            "tags": []
          }
        }
      ]
    },
    {
      "cell_type": "markdown",
      "metadata": {
        "id": "oXf9wRWucCuY"
      },
      "source": [
        "Another method to deal with categorical data other rhan dummies.\n",
        ">**Target Encoding:** Target encoding can some times increase the predictive power of machine learning model. But it also increases the risk of overfitting. It is a popular techinque for kaggle competitions.\n",
        "\n",
        "Can be use when the output of the machine learning model is numeric (regression)."
      ]
    },
    {
      "cell_type": "code",
      "metadata": {
        "id": "YbrsdmqXdInh",
        "outputId": "6826d688-f7a5-4dbc-8e18-d9b147c94ff4",
        "colab": {
          "base_uri": "https://localhost:8080/",
          "height": 359
        }
      },
      "source": [
        "# Create a small sample data set\n",
        "import pandas as pd\n",
        "import numpy as np\n",
        "\n",
        "np.random.seed(43)\n",
        "df = pd.DataFrame({\n",
        "    'cont_9': np.random.rand(10)*100,\n",
        "    'cat_0': ['dog']*5 + ['cat']*5,\n",
        "    'cat_1': ['wolf']*9 + ['tiger'] *1,\n",
        "    'y':[1,0,1,1,1,1,0,0,0,0]\n",
        "})\n",
        "\n",
        "display(df)"
      ],
      "execution_count": null,
      "outputs": [
        {
          "output_type": "display_data",
          "data": {
            "text/html": [
              "<div>\n",
              "<style scoped>\n",
              "    .dataframe tbody tr th:only-of-type {\n",
              "        vertical-align: middle;\n",
              "    }\n",
              "\n",
              "    .dataframe tbody tr th {\n",
              "        vertical-align: top;\n",
              "    }\n",
              "\n",
              "    .dataframe thead th {\n",
              "        text-align: right;\n",
              "    }\n",
              "</style>\n",
              "<table border=\"1\" class=\"dataframe\">\n",
              "  <thead>\n",
              "    <tr style=\"text-align: right;\">\n",
              "      <th></th>\n",
              "      <th>cont_9</th>\n",
              "      <th>cat_0</th>\n",
              "      <th>cat_1</th>\n",
              "      <th>y</th>\n",
              "    </tr>\n",
              "  </thead>\n",
              "  <tbody>\n",
              "    <tr>\n",
              "      <th>0</th>\n",
              "      <td>11.505457</td>\n",
              "      <td>dog</td>\n",
              "      <td>wolf</td>\n",
              "      <td>1</td>\n",
              "    </tr>\n",
              "    <tr>\n",
              "      <th>1</th>\n",
              "      <td>60.906654</td>\n",
              "      <td>dog</td>\n",
              "      <td>wolf</td>\n",
              "      <td>0</td>\n",
              "    </tr>\n",
              "    <tr>\n",
              "      <th>2</th>\n",
              "      <td>13.339096</td>\n",
              "      <td>dog</td>\n",
              "      <td>wolf</td>\n",
              "      <td>1</td>\n",
              "    </tr>\n",
              "    <tr>\n",
              "      <th>3</th>\n",
              "      <td>24.058962</td>\n",
              "      <td>dog</td>\n",
              "      <td>wolf</td>\n",
              "      <td>1</td>\n",
              "    </tr>\n",
              "    <tr>\n",
              "      <th>4</th>\n",
              "      <td>32.713906</td>\n",
              "      <td>dog</td>\n",
              "      <td>wolf</td>\n",
              "      <td>1</td>\n",
              "    </tr>\n",
              "    <tr>\n",
              "      <th>5</th>\n",
              "      <td>85.913749</td>\n",
              "      <td>cat</td>\n",
              "      <td>wolf</td>\n",
              "      <td>1</td>\n",
              "    </tr>\n",
              "    <tr>\n",
              "      <th>6</th>\n",
              "      <td>66.609021</td>\n",
              "      <td>cat</td>\n",
              "      <td>wolf</td>\n",
              "      <td>0</td>\n",
              "    </tr>\n",
              "    <tr>\n",
              "      <th>7</th>\n",
              "      <td>54.116221</td>\n",
              "      <td>cat</td>\n",
              "      <td>wolf</td>\n",
              "      <td>0</td>\n",
              "    </tr>\n",
              "    <tr>\n",
              "      <th>8</th>\n",
              "      <td>2.901382</td>\n",
              "      <td>cat</td>\n",
              "      <td>wolf</td>\n",
              "      <td>0</td>\n",
              "    </tr>\n",
              "    <tr>\n",
              "      <th>9</th>\n",
              "      <td>73.374830</td>\n",
              "      <td>cat</td>\n",
              "      <td>tiger</td>\n",
              "      <td>0</td>\n",
              "    </tr>\n",
              "  </tbody>\n",
              "</table>\n",
              "</div>"
            ],
            "text/plain": [
              "      cont_9 cat_0  cat_1  y\n",
              "0  11.505457   dog   wolf  1\n",
              "1  60.906654   dog   wolf  0\n",
              "2  13.339096   dog   wolf  1\n",
              "3  24.058962   dog   wolf  1\n",
              "4  32.713906   dog   wolf  1\n",
              "5  85.913749   cat   wolf  1\n",
              "6  66.609021   cat   wolf  0\n",
              "7  54.116221   cat   wolf  0\n",
              "8   2.901382   cat   wolf  0\n",
              "9  73.374830   cat  tiger  0"
            ]
          },
          "metadata": {
            "tags": []
          }
        }
      ]
    },
    {
      "cell_type": "code",
      "metadata": {
        "id": "gHSm5YntfJNp",
        "outputId": "822c9b31-3ad2-4e23-8c6c-ca2f30639cb8",
        "colab": {
          "base_uri": "https://localhost:8080/",
          "height": 34
        }
      },
      "source": [
        "#lets calculate the mean value, of cat and dog\n",
        "means0=df.groupby('cat_0')['y'].mean().to_dict()\n",
        "means0"
      ],
      "execution_count": null,
      "outputs": [
        {
          "output_type": "execute_result",
          "data": {
            "text/plain": [
              "{'cat': 0.2, 'dog': 0.8}"
            ]
          },
          "metadata": {
            "tags": []
          },
          "execution_count": 24
        }
      ]
    },
    {
      "cell_type": "markdown",
      "metadata": {
        "id": "3kujbWVNgrLJ"
      },
      "source": [
        "**Grouping, Sorting and Shuffling**\n"
      ]
    },
    {
      "cell_type": "code",
      "metadata": {
        "id": "Vhr-bKqBhR62"
      },
      "source": [
        ""
      ],
      "execution_count": null,
      "outputs": []
    }
  ]
}